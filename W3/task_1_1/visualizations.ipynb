{
 "cells": [
  {
   "cell_type": "code",
   "execution_count": 1,
   "metadata": {},
   "outputs": [],
   "source": [
    "import seaborn\n",
    "import numpy as np\n",
    "import json\n",
    "import pandas as pd\n",
    "import matplotlib.pyplot as plt\n",
    "\n",
    "import plotly.graph_objects as go"
   ]
  },
  {
   "cell_type": "code",
   "execution_count": 2,
   "metadata": {},
   "outputs": [
    {
     "name": "stdout",
     "output_type": "stream",
     "text": [
      "Requirement already satisfied: plotly in /home/cboned/miniconda3/envs/detectron/lib/python3.9/site-packages (5.19.0)\n",
      "Requirement already satisfied: tenacity>=6.2.0 in /home/cboned/miniconda3/envs/detectron/lib/python3.9/site-packages (from plotly) (8.2.3)\n",
      "Requirement already satisfied: packaging in /home/cboned/miniconda3/envs/detectron/lib/python3.9/site-packages (from plotly) (23.2)\n"
     ]
    }
   ],
   "source": [
    "! pip install plotly"
   ]
  },
  {
   "cell_type": "code",
   "execution_count": 81,
   "metadata": {},
   "outputs": [],
   "source": [
    "with open(\"../results/metric_results.json\", \"r\") as file:\n",
    "    results_random_search = json.load(file) "
   ]
  },
  {
   "cell_type": "code",
   "execution_count": 82,
   "metadata": {},
   "outputs": [
    {
     "data": {
      "text/plain": [
       "dict_keys(['block_size', 'search_area', 'time', 'msne', 'pepn', 'estimators'])"
      ]
     },
     "execution_count": 82,
     "metadata": {},
     "output_type": "execute_result"
    }
   ],
   "source": [
    "results_random_search.keys()"
   ]
  },
  {
   "cell_type": "code",
   "execution_count": 83,
   "metadata": {},
   "outputs": [
    {
     "name": "stdout",
     "output_type": "stream",
     "text": [
      "25\n"
     ]
    }
   ],
   "source": [
    "print(len(results_random_search[\"estimators\"]))"
   ]
  },
  {
   "cell_type": "code",
   "execution_count": 84,
   "metadata": {},
   "outputs": [],
   "source": [
    "padding = [\"mse\" for i in range(len(results_random_search[\"block_size\"]) - len(results_random_search[\"estimators\"]))]"
   ]
  },
  {
   "cell_type": "code",
   "execution_count": 85,
   "metadata": {},
   "outputs": [],
   "source": [
    "results_random_search[\"estimators\"] = padding + results_random_search[\"estimators\"]"
   ]
  },
  {
   "cell_type": "code",
   "execution_count": 86,
   "metadata": {},
   "outputs": [],
   "source": [
    "df = pd.DataFrame(results_random_search)"
   ]
  },
  {
   "cell_type": "code",
   "execution_count": 87,
   "metadata": {},
   "outputs": [
    {
     "data": {
      "text/html": [
       "<div>\n",
       "<style scoped>\n",
       "    .dataframe tbody tr th:only-of-type {\n",
       "        vertical-align: middle;\n",
       "    }\n",
       "\n",
       "    .dataframe tbody tr th {\n",
       "        vertical-align: top;\n",
       "    }\n",
       "\n",
       "    .dataframe thead th {\n",
       "        text-align: right;\n",
       "    }\n",
       "</style>\n",
       "<table border=\"1\" class=\"dataframe\">\n",
       "  <thead>\n",
       "    <tr style=\"text-align: right;\">\n",
       "      <th></th>\n",
       "      <th>block_size</th>\n",
       "      <th>search_area</th>\n",
       "      <th>time</th>\n",
       "      <th>msne</th>\n",
       "      <th>pepn</th>\n",
       "      <th>estimators</th>\n",
       "    </tr>\n",
       "  </thead>\n",
       "  <tbody>\n",
       "    <tr>\n",
       "      <th>0</th>\n",
       "      <td>30</td>\n",
       "      <td>15</td>\n",
       "      <td>2.941297</td>\n",
       "      <td>9.928420</td>\n",
       "      <td>0.830519</td>\n",
       "      <td>mse</td>\n",
       "    </tr>\n",
       "    <tr>\n",
       "      <th>1</th>\n",
       "      <td>90</td>\n",
       "      <td>55</td>\n",
       "      <td>17.619460</td>\n",
       "      <td>15.194300</td>\n",
       "      <td>0.990635</td>\n",
       "      <td>mse</td>\n",
       "    </tr>\n",
       "    <tr>\n",
       "      <th>2</th>\n",
       "      <td>70</td>\n",
       "      <td>40</td>\n",
       "      <td>11.234741</td>\n",
       "      <td>12.930214</td>\n",
       "      <td>0.972721</td>\n",
       "      <td>mse</td>\n",
       "    </tr>\n",
       "    <tr>\n",
       "      <th>3</th>\n",
       "      <td>85</td>\n",
       "      <td>50</td>\n",
       "      <td>15.876823</td>\n",
       "      <td>14.558275</td>\n",
       "      <td>0.973756</td>\n",
       "      <td>mse</td>\n",
       "    </tr>\n",
       "    <tr>\n",
       "      <th>4</th>\n",
       "      <td>45</td>\n",
       "      <td>60</td>\n",
       "      <td>32.179989</td>\n",
       "      <td>14.592048</td>\n",
       "      <td>0.979038</td>\n",
       "      <td>mse</td>\n",
       "    </tr>\n",
       "  </tbody>\n",
       "</table>\n",
       "</div>"
      ],
      "text/plain": [
       "   block_size  search_area       time       msne      pepn estimators\n",
       "0          30           15   2.941297   9.928420  0.830519        mse\n",
       "1          90           55  17.619460  15.194300  0.990635        mse\n",
       "2          70           40  11.234741  12.930214  0.972721        mse\n",
       "3          85           50  15.876823  14.558275  0.973756        mse\n",
       "4          45           60  32.179989  14.592048  0.979038        mse"
      ]
     },
     "execution_count": 87,
     "metadata": {},
     "output_type": "execute_result"
    }
   ],
   "source": [
    "df.head()"
   ]
  },
  {
   "cell_type": "code",
   "execution_count": 10,
   "metadata": {},
   "outputs": [
    {
     "data": {
      "text/html": [
       "<div>\n",
       "<style scoped>\n",
       "    .dataframe tbody tr th:only-of-type {\n",
       "        vertical-align: middle;\n",
       "    }\n",
       "\n",
       "    .dataframe tbody tr th {\n",
       "        vertical-align: top;\n",
       "    }\n",
       "\n",
       "    .dataframe thead th {\n",
       "        text-align: right;\n",
       "    }\n",
       "</style>\n",
       "<table border=\"1\" class=\"dataframe\">\n",
       "  <thead>\n",
       "    <tr style=\"text-align: right;\">\n",
       "      <th></th>\n",
       "      <th>block_size</th>\n",
       "      <th>search_area</th>\n",
       "      <th>time</th>\n",
       "      <th>msne</th>\n",
       "      <th>pepn</th>\n",
       "      <th>estimators</th>\n",
       "    </tr>\n",
       "  </thead>\n",
       "  <tbody>\n",
       "    <tr>\n",
       "      <th>0</th>\n",
       "      <td>30</td>\n",
       "      <td>15</td>\n",
       "      <td>2.941297</td>\n",
       "      <td>9.928420</td>\n",
       "      <td>0.830519</td>\n",
       "      <td>mse</td>\n",
       "    </tr>\n",
       "    <tr>\n",
       "      <th>1</th>\n",
       "      <td>90</td>\n",
       "      <td>55</td>\n",
       "      <td>17.619460</td>\n",
       "      <td>15.194300</td>\n",
       "      <td>0.990635</td>\n",
       "      <td>mse</td>\n",
       "    </tr>\n",
       "    <tr>\n",
       "      <th>2</th>\n",
       "      <td>70</td>\n",
       "      <td>40</td>\n",
       "      <td>11.234741</td>\n",
       "      <td>12.930214</td>\n",
       "      <td>0.972721</td>\n",
       "      <td>mse</td>\n",
       "    </tr>\n",
       "    <tr>\n",
       "      <th>3</th>\n",
       "      <td>85</td>\n",
       "      <td>50</td>\n",
       "      <td>15.876823</td>\n",
       "      <td>14.558275</td>\n",
       "      <td>0.973756</td>\n",
       "      <td>mse</td>\n",
       "    </tr>\n",
       "    <tr>\n",
       "      <th>4</th>\n",
       "      <td>45</td>\n",
       "      <td>60</td>\n",
       "      <td>32.179989</td>\n",
       "      <td>14.592048</td>\n",
       "      <td>0.979038</td>\n",
       "      <td>mse</td>\n",
       "    </tr>\n",
       "    <tr>\n",
       "      <th>...</th>\n",
       "      <td>...</td>\n",
       "      <td>...</td>\n",
       "      <td>...</td>\n",
       "      <td>...</td>\n",
       "      <td>...</td>\n",
       "      <td>...</td>\n",
       "    </tr>\n",
       "    <tr>\n",
       "      <th>96</th>\n",
       "      <td>55</td>\n",
       "      <td>20</td>\n",
       "      <td>0.325773</td>\n",
       "      <td>5.229914</td>\n",
       "      <td>0.362676</td>\n",
       "      <td>ccorr</td>\n",
       "    </tr>\n",
       "    <tr>\n",
       "      <th>97</th>\n",
       "      <td>50</td>\n",
       "      <td>28</td>\n",
       "      <td>0.320457</td>\n",
       "      <td>3.877706</td>\n",
       "      <td>0.277820</td>\n",
       "      <td>ccorr</td>\n",
       "    </tr>\n",
       "    <tr>\n",
       "      <th>98</th>\n",
       "      <td>35</td>\n",
       "      <td>38</td>\n",
       "      <td>0.464758</td>\n",
       "      <td>2.918335</td>\n",
       "      <td>0.187214</td>\n",
       "      <td>ccorr</td>\n",
       "    </tr>\n",
       "    <tr>\n",
       "      <th>99</th>\n",
       "      <td>40</td>\n",
       "      <td>30</td>\n",
       "      <td>0.403068</td>\n",
       "      <td>3.651379</td>\n",
       "      <td>0.222678</td>\n",
       "      <td>ccorr</td>\n",
       "    </tr>\n",
       "    <tr>\n",
       "      <th>100</th>\n",
       "      <td>30</td>\n",
       "      <td>30</td>\n",
       "      <td>0.487451</td>\n",
       "      <td>3.844123</td>\n",
       "      <td>0.226138</td>\n",
       "      <td>ccoeff</td>\n",
       "    </tr>\n",
       "  </tbody>\n",
       "</table>\n",
       "<p>101 rows × 6 columns</p>\n",
       "</div>"
      ],
      "text/plain": [
       "     block_size  search_area       time       msne      pepn estimators\n",
       "0            30           15   2.941297   9.928420  0.830519        mse\n",
       "1            90           55  17.619460  15.194300  0.990635        mse\n",
       "2            70           40  11.234741  12.930214  0.972721        mse\n",
       "3            85           50  15.876823  14.558275  0.973756        mse\n",
       "4            45           60  32.179989  14.592048  0.979038        mse\n",
       "..          ...          ...        ...        ...       ...        ...\n",
       "96           55           20   0.325773   5.229914  0.362676      ccorr\n",
       "97           50           28   0.320457   3.877706  0.277820      ccorr\n",
       "98           35           38   0.464758   2.918335  0.187214      ccorr\n",
       "99           40           30   0.403068   3.651379  0.222678      ccorr\n",
       "100          30           30   0.487451   3.844123  0.226138     ccoeff\n",
       "\n",
       "[101 rows x 6 columns]"
      ]
     },
     "execution_count": 10,
     "metadata": {},
     "output_type": "execute_result"
    }
   ],
   "source": [
    "df"
   ]
  },
  {
   "cell_type": "code",
   "execution_count": 67,
   "metadata": {},
   "outputs": [
    {
     "name": "stderr",
     "output_type": "stream",
     "text": [
      "/tmp/ipykernel_536683/588684547.py:3: SettingWithCopyWarning:\n",
      "\n",
      "\n",
      "A value is trying to be set on a copy of a slice from a DataFrame.\n",
      "Try using .loc[row_indexer,col_indexer] = value instead\n",
      "\n",
      "See the caveats in the documentation: https://pandas.pydata.org/pandas-docs/stable/user_guide/indexing.html#returning-a-view-versus-a-copy\n",
      "\n"
     ]
    },
    {
     "data": {
      "application/vnd.plotly.v1+json": {
       "config": {
        "plotlyServerURL": "https://plot.ly"
       },
       "data": [
        {
         "hovertemplate": "estimators=mse<br>block_size=%{x}<br>search_area=%{y}<br>time=%{z}<br>msne=%{marker.size}<extra></extra>",
         "legendgroup": "mse",
         "marker": {
          "color": "rgb(76,114,176)",
          "opacity": 1,
          "size": [
           20.14419219663888,
           13.162831049316711,
           15.467647633524406,
           13.737891091197554,
           13.706095345071228,
           17.354076466576142,
           13.174016623628454,
           12.49638065256375,
           15.772648074135642,
           13.955128202606195,
           12.968433443592946,
           13.659311607055614,
           20.112183360939852,
           20.515220512666396,
           20.58089761905515,
           20.464073562527368,
           19.734918743748896,
           19.588304632392013,
           20.09435111617875,
           20.14978629748253,
           20.25821381294755,
           20.64739995548283,
           20.660301987624084,
           15.835533892504639,
           20.12413137618815,
           16.6301236541191,
           20.48899928954488,
           27.121637915498773,
           38.88299051499473,
           34.70044701117593,
           10.485673252277635,
           32.77181705281946,
           35.59114425278273,
           30.709254760037947,
           17.350413959142134,
           41.11082878546991,
           11.270214651021849,
           18.772458101034804,
           32.31819918553577,
           18.337698982500186,
           15.835533892504639,
           30.69027587459915,
           40.66773717572072,
           37.39362259498002,
           42.88338481406428,
           21.142289945581954,
           55.001404879577635,
           18.772458101034804,
           26.292498970230838,
           36.53820517966727,
           25.82073249314559,
           32.62496769786123,
           42.04593299282601,
           19.93644584280771,
           41.7990493544904,
           31.176080708964715,
           47.85401652665311,
           43.56385613836509,
           19.802891443754504,
           26.557118929638396,
           26.870833879411567,
           46.3844350568124,
           34.44693951692662,
           44.289587315466065,
           24.889297854536334,
           20.901937616291075,
           18.772458101034804,
           45.34676845108405,
           22.10132243123436
          ],
          "sizemode": "area",
          "sizeref": 0.07614691126652534,
          "symbol": "circle"
         },
         "mode": "markers",
         "name": "mse",
         "scene": "scene",
         "showlegend": true,
         "type": "scatter3d",
         "x": [
          30,
          90,
          70,
          85,
          45,
          95,
          90,
          90,
          80,
          80,
          80,
          55,
          18,
          6,
          6,
          12,
          12,
          9,
          27,
          24,
          18,
          9,
          21,
          36,
          11,
          26,
          21,
          36,
          36,
          21,
          26,
          11,
          21,
          46,
          31,
          21,
          26,
          11,
          46,
          21,
          36,
          16,
          41,
          26,
          55,
          35,
          50,
          10,
          45,
          50,
          20,
          15,
          25,
          10,
          65,
          30,
          30,
          40,
          30,
          10,
          30,
          20,
          45,
          40,
          55,
          30,
          25,
          70,
          20
         ],
         "y": [
          15,
          55,
          40,
          50,
          60,
          15,
          50,
          60,
          25,
          55,
          30,
          60,
          18,
          24,
          12,
          24,
          6,
          6,
          15,
          15,
          12,
          24,
          15,
          10,
          4,
          8,
          4,
          10,
          20,
          18,
          26,
          28,
          20,
          12,
          6,
          24,
          22,
          0,
          14,
          2,
          10,
          14,
          22,
          20,
          26,
          4,
          28,
          0,
          8,
          18,
          10,
          20,
          28,
          4,
          22,
          12,
          26,
          24,
          2,
          14,
          10,
          26,
          14,
          26,
          6,
          4,
          0,
          24,
          6
         ],
         "z": [
          2.9412970542907715,
          17.619460344314575,
          11.2347412109375,
          15.87682318687439,
          32.179988622665405,
          1.153557538986206,
          14.70869779586792,
          21.323641061782837,
          3.7037124633789062,
          17.179452896118164,
          5.772386074066162,
          27.277315378189087,
          8.666446685791016,
          93.13030886650085,
          24.36471724510193,
          28.584277629852295,
          2.50360107421875,
          3.933917284011841,
          3.1791276931762695,
          3.744605541229248,
          3.9695849418640137,
          44.72160720825195,
          4.391026020050049,
          1.4835846424102783,
          1.1455163955688477,
          1.471513032913208,
          0.499133825302124,
          1.5659699440002441,
          5.2792136669158936,
          0.6354849338531494,
          11.931395769119263,
          51.0586519241333,
          9.754010200500488,
          0.28908801078796387,
          0.8080599308013916,
          0.6703896522521973,
          8.803222417831421,
          1.1447553634643555,
          0.2890434265136719,
          0.516568660736084,
          1.4725573062896729,
          0.80887770652771,
          5.641777753829956,
          7.319693565368652,
          0.30388879776000977,
          0.32453131675720215,
          0.3067784309387207,
          1.3656964302062988,
          0.288679838180542,
          0.28231096267700195,
          0.5929126739501953,
          1.0717368125915527,
          0.5761258602142334,
          1.3907127380371094,
          0.24989795684814453,
          0.435183048248291,
          0.45200634002685547,
          0.34194111824035645,
          0.4550211429595947,
          1.8212194442749023,
          0.3749227523803711,
          0.7149057388305664,
          0.30271434783935547,
          0.37334394454956055,
          0.24536347389221191,
          0.371082067489624,
          0.4528543949127197,
          0.23277068138122559,
          0.5463771820068359
         ]
        },
        {
         "hovertemplate": "estimators=ccorr<br>block_size=%{x}<br>search_area=%{y}<br>time=%{z}<br>msne=%{marker.size}<extra></extra>",
         "legendgroup": "ccorr",
         "marker": {
          "color": "rgb(221,132,82)",
          "opacity": 1,
          "size": [
           50.78411387939939,
           59.085875350132135,
           45.175128419046665,
           56.65467425186348,
           46.29748090928211,
           65.484570795088,
           46.29748090928211,
           46.639216572636414,
           54.866562359720646,
           59.09646562654438,
           48.35982995113622,
           38.241546590743866,
           51.5768846347877,
           68.5322201398728,
           54.77382306967296
          ],
          "sizemode": "area",
          "sizeref": 0.07614691126652534,
          "symbol": "diamond"
         },
         "mode": "markers",
         "name": "ccorr",
         "scene": "scene",
         "showlegend": true,
         "type": "scatter3d",
         "x": [
          30,
          45,
          55,
          50,
          65,
          35,
          65,
          60,
          45,
          30,
          65,
          55,
          50,
          35,
          40
         ],
         "y": [
          30,
          32,
          28,
          30,
          26,
          34,
          26,
          24,
          30,
          34,
          28,
          20,
          28,
          38,
          30
         ],
         "z": [
          0.48711657524108887,
          0.33181071281433105,
          0.2935953140258789,
          0.34185123443603516,
          0.2698037624359131,
          0.43526530265808105,
          0.2535426616668701,
          0.33066391944885254,
          0.3699615001678467,
          0.4538242816925049,
          0.259641170501709,
          0.3257732391357422,
          0.32045745849609375,
          0.46475839614868164,
          0.40306758880615234
         ]
        },
        {
         "hovertemplate": "estimators=ccoeff<br>block_size=%{x}<br>search_area=%{y}<br>time=%{z}<br>msne=%{marker.size}<extra></extra>",
         "legendgroup": "ccoeff",
         "marker": {
          "color": "rgb(85,168,104)",
          "opacity": 1,
          "size": [
           55.001404879577635,
           44.59464004409974,
           49.03094677210642,
           41.840847725781565,
           49.948881658159664,
           40.91118825845831,
           60.25799022600745,
           51.506046122773796,
           41.840847725781565,
           52.027474305279895
          ],
          "sizemode": "area",
          "sizeref": 0.07614691126652534,
          "symbol": "square"
         },
         "mode": "markers",
         "name": "ccoeff",
         "scene": "scene",
         "showlegend": true,
         "type": "scatter3d",
         "x": [
          50,
          35,
          35,
          60,
          55,
          30,
          50,
          30,
          60,
          30
         ],
         "y": [
          28,
          24,
          28,
          20,
          36,
          20,
          36,
          28,
          20,
          30
         ],
         "z": [
          0.31107163429260254,
          0.3906104564666748,
          0.3909163475036621,
          0.2636892795562744,
          0.30139660835266113,
          0.49995923042297363,
          0.3772103786468506,
          0.4712798595428467,
          0.29462742805480957,
          0.48745059967041016
         ]
        }
       ],
       "layout": {
        "height": 1000,
        "legend": {
         "itemsizing": "constant",
         "title": {
          "text": "estimators"
         },
         "tracegroupgap": 0
        },
        "margin": {
         "b": 0,
         "l": 0,
         "r": 0,
         "t": 0
        },
        "scene": {
         "domain": {
          "x": [
           0,
           1
          ],
          "y": [
           0,
           1
          ]
         },
         "xaxis": {
          "gridcolor": "black",
          "gridwidth": 2,
          "showgrid": true,
          "tickfont": {
           "size": 15
          },
          "title": {
           "font": {
            "size": 20
           },
           "text": "block_size"
          }
         },
         "yaxis": {
          "gridcolor": "black",
          "gridwidth": 2,
          "showgrid": true,
          "tickfont": {
           "size": 15
          },
          "title": {
           "font": {
            "size": 20
           },
           "text": "search_area"
          }
         },
         "zaxis": {
          "gridcolor": "black",
          "gridwidth": 2,
          "showgrid": true,
          "tickfont": {
           "size": 15
          },
          "title": {
           "font": {
            "size": 20
           },
           "text": "time"
          }
         }
        },
        "template": {
         "data": {
          "bar": [
           {
            "error_x": {
             "color": "rgb(36,36,36)"
            },
            "error_y": {
             "color": "rgb(36,36,36)"
            },
            "marker": {
             "line": {
              "color": "rgb(234,234,242)",
              "width": 0.5
             },
             "pattern": {
              "fillmode": "overlay",
              "size": 10,
              "solidity": 0.2
             }
            },
            "type": "bar"
           }
          ],
          "barpolar": [
           {
            "marker": {
             "line": {
              "color": "rgb(234,234,242)",
              "width": 0.5
             },
             "pattern": {
              "fillmode": "overlay",
              "size": 10,
              "solidity": 0.2
             }
            },
            "type": "barpolar"
           }
          ],
          "carpet": [
           {
            "aaxis": {
             "endlinecolor": "rgb(36,36,36)",
             "gridcolor": "white",
             "linecolor": "white",
             "minorgridcolor": "white",
             "startlinecolor": "rgb(36,36,36)"
            },
            "baxis": {
             "endlinecolor": "rgb(36,36,36)",
             "gridcolor": "white",
             "linecolor": "white",
             "minorgridcolor": "white",
             "startlinecolor": "rgb(36,36,36)"
            },
            "type": "carpet"
           }
          ],
          "choropleth": [
           {
            "colorbar": {
             "outlinewidth": 0,
             "tickcolor": "rgb(36,36,36)",
             "ticklen": 8,
             "ticks": "outside",
             "tickwidth": 2
            },
            "type": "choropleth"
           }
          ],
          "contour": [
           {
            "colorbar": {
             "outlinewidth": 0,
             "tickcolor": "rgb(36,36,36)",
             "ticklen": 8,
             "ticks": "outside",
             "tickwidth": 2
            },
            "colorscale": [
             [
              0,
              "rgb(2,4,25)"
             ],
             [
              0.06274509803921569,
              "rgb(24,15,41)"
             ],
             [
              0.12549019607843137,
              "rgb(47,23,57)"
             ],
             [
              0.18823529411764706,
              "rgb(71,28,72)"
             ],
             [
              0.25098039215686274,
              "rgb(97,30,82)"
             ],
             [
              0.3137254901960784,
              "rgb(123,30,89)"
             ],
             [
              0.3764705882352941,
              "rgb(150,27,91)"
             ],
             [
              0.4392156862745098,
              "rgb(177,22,88)"
             ],
             [
              0.5019607843137255,
              "rgb(203,26,79)"
             ],
             [
              0.5647058823529412,
              "rgb(223,47,67)"
             ],
             [
              0.6274509803921569,
              "rgb(236,76,61)"
             ],
             [
              0.6901960784313725,
              "rgb(242,107,73)"
             ],
             [
              0.7529411764705882,
              "rgb(244,135,95)"
             ],
             [
              0.8156862745098039,
              "rgb(245,162,122)"
             ],
             [
              0.8784313725490196,
              "rgb(246,188,153)"
             ],
             [
              0.9411764705882353,
              "rgb(247,212,187)"
             ],
             [
              1,
              "rgb(250,234,220)"
             ]
            ],
            "type": "contour"
           }
          ],
          "contourcarpet": [
           {
            "colorbar": {
             "outlinewidth": 0,
             "tickcolor": "rgb(36,36,36)",
             "ticklen": 8,
             "ticks": "outside",
             "tickwidth": 2
            },
            "type": "contourcarpet"
           }
          ],
          "heatmap": [
           {
            "colorbar": {
             "outlinewidth": 0,
             "tickcolor": "rgb(36,36,36)",
             "ticklen": 8,
             "ticks": "outside",
             "tickwidth": 2
            },
            "colorscale": [
             [
              0,
              "rgb(2,4,25)"
             ],
             [
              0.06274509803921569,
              "rgb(24,15,41)"
             ],
             [
              0.12549019607843137,
              "rgb(47,23,57)"
             ],
             [
              0.18823529411764706,
              "rgb(71,28,72)"
             ],
             [
              0.25098039215686274,
              "rgb(97,30,82)"
             ],
             [
              0.3137254901960784,
              "rgb(123,30,89)"
             ],
             [
              0.3764705882352941,
              "rgb(150,27,91)"
             ],
             [
              0.4392156862745098,
              "rgb(177,22,88)"
             ],
             [
              0.5019607843137255,
              "rgb(203,26,79)"
             ],
             [
              0.5647058823529412,
              "rgb(223,47,67)"
             ],
             [
              0.6274509803921569,
              "rgb(236,76,61)"
             ],
             [
              0.6901960784313725,
              "rgb(242,107,73)"
             ],
             [
              0.7529411764705882,
              "rgb(244,135,95)"
             ],
             [
              0.8156862745098039,
              "rgb(245,162,122)"
             ],
             [
              0.8784313725490196,
              "rgb(246,188,153)"
             ],
             [
              0.9411764705882353,
              "rgb(247,212,187)"
             ],
             [
              1,
              "rgb(250,234,220)"
             ]
            ],
            "type": "heatmap"
           }
          ],
          "heatmapgl": [
           {
            "colorbar": {
             "outlinewidth": 0,
             "tickcolor": "rgb(36,36,36)",
             "ticklen": 8,
             "ticks": "outside",
             "tickwidth": 2
            },
            "colorscale": [
             [
              0,
              "rgb(2,4,25)"
             ],
             [
              0.06274509803921569,
              "rgb(24,15,41)"
             ],
             [
              0.12549019607843137,
              "rgb(47,23,57)"
             ],
             [
              0.18823529411764706,
              "rgb(71,28,72)"
             ],
             [
              0.25098039215686274,
              "rgb(97,30,82)"
             ],
             [
              0.3137254901960784,
              "rgb(123,30,89)"
             ],
             [
              0.3764705882352941,
              "rgb(150,27,91)"
             ],
             [
              0.4392156862745098,
              "rgb(177,22,88)"
             ],
             [
              0.5019607843137255,
              "rgb(203,26,79)"
             ],
             [
              0.5647058823529412,
              "rgb(223,47,67)"
             ],
             [
              0.6274509803921569,
              "rgb(236,76,61)"
             ],
             [
              0.6901960784313725,
              "rgb(242,107,73)"
             ],
             [
              0.7529411764705882,
              "rgb(244,135,95)"
             ],
             [
              0.8156862745098039,
              "rgb(245,162,122)"
             ],
             [
              0.8784313725490196,
              "rgb(246,188,153)"
             ],
             [
              0.9411764705882353,
              "rgb(247,212,187)"
             ],
             [
              1,
              "rgb(250,234,220)"
             ]
            ],
            "type": "heatmapgl"
           }
          ],
          "histogram": [
           {
            "marker": {
             "pattern": {
              "fillmode": "overlay",
              "size": 10,
              "solidity": 0.2
             }
            },
            "type": "histogram"
           }
          ],
          "histogram2d": [
           {
            "colorbar": {
             "outlinewidth": 0,
             "tickcolor": "rgb(36,36,36)",
             "ticklen": 8,
             "ticks": "outside",
             "tickwidth": 2
            },
            "colorscale": [
             [
              0,
              "rgb(2,4,25)"
             ],
             [
              0.06274509803921569,
              "rgb(24,15,41)"
             ],
             [
              0.12549019607843137,
              "rgb(47,23,57)"
             ],
             [
              0.18823529411764706,
              "rgb(71,28,72)"
             ],
             [
              0.25098039215686274,
              "rgb(97,30,82)"
             ],
             [
              0.3137254901960784,
              "rgb(123,30,89)"
             ],
             [
              0.3764705882352941,
              "rgb(150,27,91)"
             ],
             [
              0.4392156862745098,
              "rgb(177,22,88)"
             ],
             [
              0.5019607843137255,
              "rgb(203,26,79)"
             ],
             [
              0.5647058823529412,
              "rgb(223,47,67)"
             ],
             [
              0.6274509803921569,
              "rgb(236,76,61)"
             ],
             [
              0.6901960784313725,
              "rgb(242,107,73)"
             ],
             [
              0.7529411764705882,
              "rgb(244,135,95)"
             ],
             [
              0.8156862745098039,
              "rgb(245,162,122)"
             ],
             [
              0.8784313725490196,
              "rgb(246,188,153)"
             ],
             [
              0.9411764705882353,
              "rgb(247,212,187)"
             ],
             [
              1,
              "rgb(250,234,220)"
             ]
            ],
            "type": "histogram2d"
           }
          ],
          "histogram2dcontour": [
           {
            "colorbar": {
             "outlinewidth": 0,
             "tickcolor": "rgb(36,36,36)",
             "ticklen": 8,
             "ticks": "outside",
             "tickwidth": 2
            },
            "colorscale": [
             [
              0,
              "rgb(2,4,25)"
             ],
             [
              0.06274509803921569,
              "rgb(24,15,41)"
             ],
             [
              0.12549019607843137,
              "rgb(47,23,57)"
             ],
             [
              0.18823529411764706,
              "rgb(71,28,72)"
             ],
             [
              0.25098039215686274,
              "rgb(97,30,82)"
             ],
             [
              0.3137254901960784,
              "rgb(123,30,89)"
             ],
             [
              0.3764705882352941,
              "rgb(150,27,91)"
             ],
             [
              0.4392156862745098,
              "rgb(177,22,88)"
             ],
             [
              0.5019607843137255,
              "rgb(203,26,79)"
             ],
             [
              0.5647058823529412,
              "rgb(223,47,67)"
             ],
             [
              0.6274509803921569,
              "rgb(236,76,61)"
             ],
             [
              0.6901960784313725,
              "rgb(242,107,73)"
             ],
             [
              0.7529411764705882,
              "rgb(244,135,95)"
             ],
             [
              0.8156862745098039,
              "rgb(245,162,122)"
             ],
             [
              0.8784313725490196,
              "rgb(246,188,153)"
             ],
             [
              0.9411764705882353,
              "rgb(247,212,187)"
             ],
             [
              1,
              "rgb(250,234,220)"
             ]
            ],
            "type": "histogram2dcontour"
           }
          ],
          "mesh3d": [
           {
            "colorbar": {
             "outlinewidth": 0,
             "tickcolor": "rgb(36,36,36)",
             "ticklen": 8,
             "ticks": "outside",
             "tickwidth": 2
            },
            "type": "mesh3d"
           }
          ],
          "parcoords": [
           {
            "line": {
             "colorbar": {
              "outlinewidth": 0,
              "tickcolor": "rgb(36,36,36)",
              "ticklen": 8,
              "ticks": "outside",
              "tickwidth": 2
             }
            },
            "type": "parcoords"
           }
          ],
          "pie": [
           {
            "automargin": true,
            "type": "pie"
           }
          ],
          "scatter": [
           {
            "fillpattern": {
             "fillmode": "overlay",
             "size": 10,
             "solidity": 0.2
            },
            "type": "scatter"
           }
          ],
          "scatter3d": [
           {
            "line": {
             "colorbar": {
              "outlinewidth": 0,
              "tickcolor": "rgb(36,36,36)",
              "ticklen": 8,
              "ticks": "outside",
              "tickwidth": 2
             }
            },
            "marker": {
             "colorbar": {
              "outlinewidth": 0,
              "tickcolor": "rgb(36,36,36)",
              "ticklen": 8,
              "ticks": "outside",
              "tickwidth": 2
             }
            },
            "type": "scatter3d"
           }
          ],
          "scattercarpet": [
           {
            "marker": {
             "colorbar": {
              "outlinewidth": 0,
              "tickcolor": "rgb(36,36,36)",
              "ticklen": 8,
              "ticks": "outside",
              "tickwidth": 2
             }
            },
            "type": "scattercarpet"
           }
          ],
          "scattergeo": [
           {
            "marker": {
             "colorbar": {
              "outlinewidth": 0,
              "tickcolor": "rgb(36,36,36)",
              "ticklen": 8,
              "ticks": "outside",
              "tickwidth": 2
             }
            },
            "type": "scattergeo"
           }
          ],
          "scattergl": [
           {
            "marker": {
             "colorbar": {
              "outlinewidth": 0,
              "tickcolor": "rgb(36,36,36)",
              "ticklen": 8,
              "ticks": "outside",
              "tickwidth": 2
             }
            },
            "type": "scattergl"
           }
          ],
          "scattermapbox": [
           {
            "marker": {
             "colorbar": {
              "outlinewidth": 0,
              "tickcolor": "rgb(36,36,36)",
              "ticklen": 8,
              "ticks": "outside",
              "tickwidth": 2
             }
            },
            "type": "scattermapbox"
           }
          ],
          "scatterpolar": [
           {
            "marker": {
             "colorbar": {
              "outlinewidth": 0,
              "tickcolor": "rgb(36,36,36)",
              "ticklen": 8,
              "ticks": "outside",
              "tickwidth": 2
             }
            },
            "type": "scatterpolar"
           }
          ],
          "scatterpolargl": [
           {
            "marker": {
             "colorbar": {
              "outlinewidth": 0,
              "tickcolor": "rgb(36,36,36)",
              "ticklen": 8,
              "ticks": "outside",
              "tickwidth": 2
             }
            },
            "type": "scatterpolargl"
           }
          ],
          "scatterternary": [
           {
            "marker": {
             "colorbar": {
              "outlinewidth": 0,
              "tickcolor": "rgb(36,36,36)",
              "ticklen": 8,
              "ticks": "outside",
              "tickwidth": 2
             }
            },
            "type": "scatterternary"
           }
          ],
          "surface": [
           {
            "colorbar": {
             "outlinewidth": 0,
             "tickcolor": "rgb(36,36,36)",
             "ticklen": 8,
             "ticks": "outside",
             "tickwidth": 2
            },
            "colorscale": [
             [
              0,
              "rgb(2,4,25)"
             ],
             [
              0.06274509803921569,
              "rgb(24,15,41)"
             ],
             [
              0.12549019607843137,
              "rgb(47,23,57)"
             ],
             [
              0.18823529411764706,
              "rgb(71,28,72)"
             ],
             [
              0.25098039215686274,
              "rgb(97,30,82)"
             ],
             [
              0.3137254901960784,
              "rgb(123,30,89)"
             ],
             [
              0.3764705882352941,
              "rgb(150,27,91)"
             ],
             [
              0.4392156862745098,
              "rgb(177,22,88)"
             ],
             [
              0.5019607843137255,
              "rgb(203,26,79)"
             ],
             [
              0.5647058823529412,
              "rgb(223,47,67)"
             ],
             [
              0.6274509803921569,
              "rgb(236,76,61)"
             ],
             [
              0.6901960784313725,
              "rgb(242,107,73)"
             ],
             [
              0.7529411764705882,
              "rgb(244,135,95)"
             ],
             [
              0.8156862745098039,
              "rgb(245,162,122)"
             ],
             [
              0.8784313725490196,
              "rgb(246,188,153)"
             ],
             [
              0.9411764705882353,
              "rgb(247,212,187)"
             ],
             [
              1,
              "rgb(250,234,220)"
             ]
            ],
            "type": "surface"
           }
          ],
          "table": [
           {
            "cells": {
             "fill": {
              "color": "rgb(231,231,240)"
             },
             "line": {
              "color": "white"
             }
            },
            "header": {
             "fill": {
              "color": "rgb(183,183,191)"
             },
             "line": {
              "color": "white"
             }
            },
            "type": "table"
           }
          ]
         },
         "layout": {
          "annotationdefaults": {
           "arrowcolor": "rgb(67,103,167)"
          },
          "autotypenumbers": "strict",
          "coloraxis": {
           "colorbar": {
            "outlinewidth": 0,
            "tickcolor": "rgb(36,36,36)",
            "ticklen": 8,
            "ticks": "outside",
            "tickwidth": 2
           }
          },
          "colorscale": {
           "sequential": [
            [
             0,
             "rgb(2,4,25)"
            ],
            [
             0.06274509803921569,
             "rgb(24,15,41)"
            ],
            [
             0.12549019607843137,
             "rgb(47,23,57)"
            ],
            [
             0.18823529411764706,
             "rgb(71,28,72)"
            ],
            [
             0.25098039215686274,
             "rgb(97,30,82)"
            ],
            [
             0.3137254901960784,
             "rgb(123,30,89)"
            ],
            [
             0.3764705882352941,
             "rgb(150,27,91)"
            ],
            [
             0.4392156862745098,
             "rgb(177,22,88)"
            ],
            [
             0.5019607843137255,
             "rgb(203,26,79)"
            ],
            [
             0.5647058823529412,
             "rgb(223,47,67)"
            ],
            [
             0.6274509803921569,
             "rgb(236,76,61)"
            ],
            [
             0.6901960784313725,
             "rgb(242,107,73)"
            ],
            [
             0.7529411764705882,
             "rgb(244,135,95)"
            ],
            [
             0.8156862745098039,
             "rgb(245,162,122)"
            ],
            [
             0.8784313725490196,
             "rgb(246,188,153)"
            ],
            [
             0.9411764705882353,
             "rgb(247,212,187)"
            ],
            [
             1,
             "rgb(250,234,220)"
            ]
           ],
           "sequentialminus": [
            [
             0,
             "rgb(2,4,25)"
            ],
            [
             0.06274509803921569,
             "rgb(24,15,41)"
            ],
            [
             0.12549019607843137,
             "rgb(47,23,57)"
            ],
            [
             0.18823529411764706,
             "rgb(71,28,72)"
            ],
            [
             0.25098039215686274,
             "rgb(97,30,82)"
            ],
            [
             0.3137254901960784,
             "rgb(123,30,89)"
            ],
            [
             0.3764705882352941,
             "rgb(150,27,91)"
            ],
            [
             0.4392156862745098,
             "rgb(177,22,88)"
            ],
            [
             0.5019607843137255,
             "rgb(203,26,79)"
            ],
            [
             0.5647058823529412,
             "rgb(223,47,67)"
            ],
            [
             0.6274509803921569,
             "rgb(236,76,61)"
            ],
            [
             0.6901960784313725,
             "rgb(242,107,73)"
            ],
            [
             0.7529411764705882,
             "rgb(244,135,95)"
            ],
            [
             0.8156862745098039,
             "rgb(245,162,122)"
            ],
            [
             0.8784313725490196,
             "rgb(246,188,153)"
            ],
            [
             0.9411764705882353,
             "rgb(247,212,187)"
            ],
            [
             1,
             "rgb(250,234,220)"
            ]
           ]
          },
          "colorway": [
           "rgb(76,114,176)",
           "rgb(221,132,82)",
           "rgb(85,168,104)",
           "rgb(196,78,82)",
           "rgb(129,114,179)",
           "rgb(147,120,96)",
           "rgb(218,139,195)",
           "rgb(140,140,140)",
           "rgb(204,185,116)",
           "rgb(100,181,205)"
          ],
          "font": {
           "color": "rgb(36,36,36)"
          },
          "geo": {
           "bgcolor": "white",
           "lakecolor": "white",
           "landcolor": "rgb(234,234,242)",
           "showlakes": true,
           "showland": true,
           "subunitcolor": "white"
          },
          "hoverlabel": {
           "align": "left"
          },
          "hovermode": "closest",
          "paper_bgcolor": "white",
          "plot_bgcolor": "rgb(234,234,242)",
          "polar": {
           "angularaxis": {
            "gridcolor": "white",
            "linecolor": "white",
            "showgrid": true,
            "ticks": ""
           },
           "bgcolor": "rgb(234,234,242)",
           "radialaxis": {
            "gridcolor": "white",
            "linecolor": "white",
            "showgrid": true,
            "ticks": ""
           }
          },
          "scene": {
           "xaxis": {
            "backgroundcolor": "rgb(234,234,242)",
            "gridcolor": "white",
            "gridwidth": 2,
            "linecolor": "white",
            "showbackground": true,
            "showgrid": true,
            "ticks": "",
            "zerolinecolor": "white"
           },
           "yaxis": {
            "backgroundcolor": "rgb(234,234,242)",
            "gridcolor": "white",
            "gridwidth": 2,
            "linecolor": "white",
            "showbackground": true,
            "showgrid": true,
            "ticks": "",
            "zerolinecolor": "white"
           },
           "zaxis": {
            "backgroundcolor": "rgb(234,234,242)",
            "gridcolor": "white",
            "gridwidth": 2,
            "linecolor": "white",
            "showbackground": true,
            "showgrid": true,
            "ticks": "",
            "zerolinecolor": "white"
           }
          },
          "shapedefaults": {
           "fillcolor": "rgb(67,103,167)",
           "line": {
            "width": 0
           },
           "opacity": 0.5
          },
          "ternary": {
           "aaxis": {
            "gridcolor": "white",
            "linecolor": "white",
            "showgrid": true,
            "ticks": ""
           },
           "baxis": {
            "gridcolor": "white",
            "linecolor": "white",
            "showgrid": true,
            "ticks": ""
           },
           "bgcolor": "rgb(234,234,242)",
           "caxis": {
            "gridcolor": "white",
            "linecolor": "white",
            "showgrid": true,
            "ticks": ""
           }
          },
          "xaxis": {
           "automargin": true,
           "gridcolor": "white",
           "linecolor": "white",
           "showgrid": true,
           "ticks": "",
           "title": {
            "standoff": 15
           },
           "zerolinecolor": "white"
          },
          "yaxis": {
           "automargin": true,
           "gridcolor": "white",
           "linecolor": "white",
           "showgrid": true,
           "ticks": "",
           "title": {
            "standoff": 15
           },
           "zerolinecolor": "white"
          }
         }
        },
        "width": 1000
       }
      }
     },
     "metadata": {},
     "output_type": "display_data"
    }
   ],
   "source": [
    "import plotly.express as px\n",
    "df_copy = df.loc[(df[\"time\"] < 120) & (df[\"msne\"]<20)]\n",
    "df_copy[\"msne\"] = (1 / df[\"msne\"]) * 200\n",
    "fig = px.scatter_3d(df_copy, x='block_size', y='search_area', z='time',\n",
    "              color='estimators', size='msne', size_max=30,\n",
    "              symbol='estimators', opacity=1, width=1000, height=1000, template= \"seaborn\")\n",
    "\n",
    "# tight layout\n",
    "fig.update_layout(\n",
    "    margin=dict(l=0, r=0, b=0, t=0),\n",
    "    scene=dict(\n",
    "        xaxis=dict(showgrid=True, gridwidth=2, gridcolor='black', tickfont=dict(size=15), title_font=dict(size=20)),\n",
    "        yaxis=dict(showgrid=True, gridwidth=2, gridcolor='black', tickfont=dict(size=15), title_font=dict(size=20)),\n",
    "        zaxis=dict(showgrid=True, gridwidth=2, gridcolor='black', tickfont=dict(size=15), title_font=dict(size=20))\n",
    "    )\n",
    ")\n",
    "fig.show()"
   ]
  },
  {
   "cell_type": "code",
   "execution_count": 135,
   "metadata": {},
   "outputs": [
    {
     "data": {
      "application/vnd.plotly.v1+json": {
       "config": {
        "plotlyServerURL": "https://plot.ly"
       },
       "data": [
        {
         "legendgroup": "MSNE",
         "legendgrouptitle": {
          "text": "MSNE"
         },
         "marker": {
          "color": "IndianRed"
         },
         "name": "Average",
         "offsetgroup": "MSNE",
         "type": "bar",
         "width": 0.1,
         "x": [
          "ccoeff",
          "ccorr",
          "mse"
         ],
         "y": [
          4.169916276014166,
          3.8736793425236455,
          9.252692544387312
         ]
        },
        {
         "legendgroup": "pepn",
         "legendgrouptitle": {
          "text": "pepn"
         },
         "marker": {
          "color": "green"
         },
         "name": "Average * 10",
         "offsetgroup": "pepn",
         "type": "bar",
         "width": 0.1,
         "x": [
          "ccoeff",
          "ccorr",
          "mse"
         ],
         "y": [
          2.6239240870315346,
          2.7183679989776026,
          6.330520352782489
         ]
        },
        {
         "legendgroup": "MSNE",
         "marker": {
          "color": "teal",
          "size": 5
         },
         "mode": "markers",
         "name": "Individual msne",
         "offsetgroup": "MSNE",
         "type": "scatter",
         "x": [
          "mse",
          "mse",
          "mse",
          "mse",
          "mse",
          "mse",
          "mse",
          "mse",
          "mse",
          "mse",
          "mse",
          "mse",
          "mse",
          "mse",
          "mse",
          "mse",
          "mse",
          "mse",
          "mse",
          "mse",
          "mse",
          "mse",
          "mse",
          "mse",
          "mse",
          "mse",
          "mse",
          "mse",
          "mse",
          "mse",
          "mse",
          "mse",
          "mse",
          "mse",
          "mse",
          "mse",
          "mse",
          "mse",
          "mse",
          "mse",
          "mse",
          "mse",
          "mse",
          "mse",
          "mse",
          "mse",
          "mse",
          "mse",
          "mse",
          "mse",
          "mse",
          "mse",
          "mse",
          "mse",
          "mse",
          "mse",
          "mse",
          "mse",
          "mse",
          "mse",
          "mse",
          "mse",
          "mse",
          "mse",
          "mse",
          "mse",
          "mse",
          "mse",
          "mse",
          "ccorr",
          "ccoeff",
          "ccorr",
          "ccoeff",
          "ccorr",
          "ccorr",
          "ccorr",
          "ccoeff",
          "ccoeff",
          "ccorr",
          "ccoeff",
          "ccoeff",
          "ccorr",
          "ccoeff",
          "ccorr",
          "ccorr",
          "ccoeff",
          "ccorr",
          "ccoeff",
          "ccorr",
          "ccorr",
          "ccorr",
          "ccorr",
          "ccorr",
          "ccoeff"
         ],
         "y": [
          9.928419965798907,
          15.194299710348565,
          12.930214389324608,
          14.55827526017792,
          14.592047914792952,
          11.524669744610087,
          15.181398787768874,
          16.00463410651372,
          12.680178943950743,
          14.331649060927216,
          15.422063186730542,
          14.642026315344584,
          9.94422119223628,
          9.748859383525373,
          9.717749133294694,
          9.773225227563122,
          10.134320926117352,
          10.210174068319924,
          9.953045950260726,
          9.925663580113877,
          9.87253870685158,
          9.686449646503354,
          9.6804006117531,
          12.629823620576827,
          9.93831715075413,
          12.026368784724111,
          9.761335689149833,
          7.3741859036363415,
          5.143637291037904,
          5.763614512965387,
          19.07364412261818,
          6.10280472631875,
          5.619375386739997,
          6.512694676663422,
          11.52710249282656,
          4.864898273972219,
          17.745890934017517,
          10.65390578706234,
          6.1884636223639395,
          10.906493785881294,
          12.629823620576827,
          6.516722131049017,
          4.917903328031813,
          5.348505603916785,
          4.663810957721016,
          9.45971323422293,
          3.636270754135978,
          10.65390578706234,
          7.606732255707077,
          5.473722614905444,
          7.7457136451528745,
          6.130274268841997,
          4.756702628863642,
          10.031878378770918,
          4.7847978145109265,
          6.415174564982756,
          4.17937750091691,
          4.590961813958139,
          10.099535240500277,
          7.530937393091805,
          7.443014269580968,
          4.311791223824043,
          5.806031038017863,
          4.515734106426397,
          8.035582247795228,
          9.56849090603538,
          10.65390578706234,
          4.410457609911977,
          9.049232263013954,
          3.9382394359573563,
          3.636270754135978,
          3.3849037323190427,
          4.484843914026877,
          4.427214863559222,
          3.53015885522317,
          4.319889464221418,
          4.079056456518998,
          4.7800178741781005,
          3.0541545523117635,
          4.004093652561847,
          4.88863825554249,
          4.319889464221418,
          3.3190619078045462,
          4.28823669644017,
          3.645207415925635,
          3.883039275103054,
          3.3842971467005283,
          4.7800178741781005,
          4.1356638392253275,
          5.2299140027042945,
          3.8777060967560555,
          2.9183353405420727,
          3.651379231747209,
          3.8441227960916686
         ]
        },
        {
         "legendgroup": "pepn",
         "marker": {
          "color": "red",
          "size": 3
         },
         "mode": "markers",
         "name": "Individual pepn * 10",
         "offsetgroup": "pepn",
         "type": "scatter",
         "x": [
          "mse",
          "mse",
          "mse",
          "mse",
          "mse",
          "mse",
          "mse",
          "mse",
          "mse",
          "mse",
          "mse",
          "mse",
          "mse",
          "mse",
          "mse",
          "mse",
          "mse",
          "mse",
          "mse",
          "mse",
          "mse",
          "mse",
          "mse",
          "mse",
          "mse",
          "mse",
          "mse",
          "mse",
          "mse",
          "mse",
          "mse",
          "mse",
          "mse",
          "mse",
          "mse",
          "mse",
          "mse",
          "mse",
          "mse",
          "mse",
          "mse",
          "mse",
          "mse",
          "mse",
          "mse",
          "mse",
          "mse",
          "mse",
          "mse",
          "mse",
          "mse",
          "mse",
          "mse",
          "mse",
          "mse",
          "mse",
          "mse",
          "mse",
          "mse",
          "mse",
          "mse",
          "mse",
          "mse",
          "mse",
          "mse",
          "mse",
          "mse",
          "mse",
          "mse",
          "ccorr",
          "ccoeff",
          "ccorr",
          "ccoeff",
          "ccorr",
          "ccorr",
          "ccorr",
          "ccoeff",
          "ccoeff",
          "ccorr",
          "ccoeff",
          "ccoeff",
          "ccorr",
          "ccoeff",
          "ccorr",
          "ccorr",
          "ccoeff",
          "ccorr",
          "ccoeff",
          "ccorr",
          "ccorr",
          "ccorr",
          "ccorr",
          "ccorr",
          "ccoeff"
         ],
         "y": [
          8.305185469184318,
          9.906354835617751,
          9.727211732004218,
          9.737563500431323,
          9.790376689351097,
          9.41780887568293,
          9.909613725678136,
          9.968561295888048,
          9.667305664717723,
          9.704782900412154,
          9.762388574714848,
          9.653407457107257,
          8.299722035847791,
          7.517205022524681,
          7.058084922840986,
          7.734592159493914,
          7.303556024154126,
          7.433624077446563,
          8.023770727499281,
          8.057989073133328,
          7.613438129013707,
          7.9870602894661165,
          7.880762963672961,
          9.275759608933193,
          6.767181060097767,
          9.039585929262916,
          6.542605195054155,
          4.765359915652257,
          2.9138311128151058,
          3.219591680245375,
          9.968273746765073,
          4.4791526885843,
          3.3222467171475127,
          3.939039585929263,
          8.587942106776575,
          2.3917377551998467,
          9.93923128534458,
          7.887089044378415,
          3.658104092782517,
          8.090673823444838,
          9.275759608933193,
          3.775999233202339,
          2.960797469567718,
          3.270871273842615,
          3.3233969136394133,
          6.46304993769769,
          2.6474647752324354,
          7.887089044378415,
          4.891402281223042,
          3.3689255247771492,
          4.8230614396626095,
          3.3951883446755486,
          2.972107735071408,
          6.802837151346688,
          3.565129876353877,
          3.9270583724719637,
          2.2838109843764975,
          2.470046966356753,
          7.089715326368254,
          4.227451356273363,
          4.892360778299627,
          2.2698169270583723,
          3.7048787501198124,
          2.362886993194671,
          5.4592159493913535,
          6.4386082622448,
          7.887089044378415,
          3.2439375059906066,
          5.878175021566184,
          2.2752803603949006,
          2.6474647752324354,
          2.3295312949295504,
          2.4860538675357042,
          3.270775424134956,
          2.564171379277293,
          3.492667497364133,
          2.3413208089715325,
          3.040352726924183,
          2.121345729895524,
          3.0879900316304036,
          2.757500239624269,
          3.492667497364133,
          2.3422793060481166,
          2.7799290712163325,
          2.3997891306431516,
          2.2345442346400843,
          2.1063931755008145,
          3.040352726924183,
          3.439087510783092,
          3.6267612383782226,
          2.778203776478482,
          1.8721364899837056,
          2.2267804083197547,
          2.261382152784434
         ]
        }
       ],
       "layout": {
        "height": 700,
        "legend": {
         "groupclick": "toggleitem"
        },
        "margin": {
         "b": 0,
         "l": 0,
         "r": 0,
         "t": 0
        },
        "scattermode": "group",
        "scene": {
         "xaxis": {
          "gridcolor": "black",
          "gridwidth": 2,
          "showgrid": true,
          "tickfont": {
           "size": 15
          },
          "title": {
           "font": {
            "size": 20
           }
          }
         },
         "yaxis": {
          "gridcolor": "black",
          "gridwidth": 2,
          "showgrid": true,
          "tickfont": {
           "size": 15
          },
          "title": {
           "font": {
            "size": 20
           }
          }
         },
         "zaxis": {
          "gridcolor": "black",
          "gridwidth": 2,
          "showgrid": true,
          "tickfont": {
           "size": 15
          },
          "title": {
           "font": {
            "size": 20
           }
          }
         }
        },
        "template": {
         "data": {
          "bar": [
           {
            "error_x": {
             "color": "#2a3f5f"
            },
            "error_y": {
             "color": "#2a3f5f"
            },
            "marker": {
             "line": {
              "color": "#E5ECF6",
              "width": 0.5
             },
             "pattern": {
              "fillmode": "overlay",
              "size": 10,
              "solidity": 0.2
             }
            },
            "type": "bar"
           }
          ],
          "barpolar": [
           {
            "marker": {
             "line": {
              "color": "#E5ECF6",
              "width": 0.5
             },
             "pattern": {
              "fillmode": "overlay",
              "size": 10,
              "solidity": 0.2
             }
            },
            "type": "barpolar"
           }
          ],
          "carpet": [
           {
            "aaxis": {
             "endlinecolor": "#2a3f5f",
             "gridcolor": "white",
             "linecolor": "white",
             "minorgridcolor": "white",
             "startlinecolor": "#2a3f5f"
            },
            "baxis": {
             "endlinecolor": "#2a3f5f",
             "gridcolor": "white",
             "linecolor": "white",
             "minorgridcolor": "white",
             "startlinecolor": "#2a3f5f"
            },
            "type": "carpet"
           }
          ],
          "choropleth": [
           {
            "colorbar": {
             "outlinewidth": 0,
             "ticks": ""
            },
            "type": "choropleth"
           }
          ],
          "contour": [
           {
            "colorbar": {
             "outlinewidth": 0,
             "ticks": ""
            },
            "colorscale": [
             [
              0,
              "#0d0887"
             ],
             [
              0.1111111111111111,
              "#46039f"
             ],
             [
              0.2222222222222222,
              "#7201a8"
             ],
             [
              0.3333333333333333,
              "#9c179e"
             ],
             [
              0.4444444444444444,
              "#bd3786"
             ],
             [
              0.5555555555555556,
              "#d8576b"
             ],
             [
              0.6666666666666666,
              "#ed7953"
             ],
             [
              0.7777777777777778,
              "#fb9f3a"
             ],
             [
              0.8888888888888888,
              "#fdca26"
             ],
             [
              1,
              "#f0f921"
             ]
            ],
            "type": "contour"
           }
          ],
          "contourcarpet": [
           {
            "colorbar": {
             "outlinewidth": 0,
             "ticks": ""
            },
            "type": "contourcarpet"
           }
          ],
          "heatmap": [
           {
            "colorbar": {
             "outlinewidth": 0,
             "ticks": ""
            },
            "colorscale": [
             [
              0,
              "#0d0887"
             ],
             [
              0.1111111111111111,
              "#46039f"
             ],
             [
              0.2222222222222222,
              "#7201a8"
             ],
             [
              0.3333333333333333,
              "#9c179e"
             ],
             [
              0.4444444444444444,
              "#bd3786"
             ],
             [
              0.5555555555555556,
              "#d8576b"
             ],
             [
              0.6666666666666666,
              "#ed7953"
             ],
             [
              0.7777777777777778,
              "#fb9f3a"
             ],
             [
              0.8888888888888888,
              "#fdca26"
             ],
             [
              1,
              "#f0f921"
             ]
            ],
            "type": "heatmap"
           }
          ],
          "heatmapgl": [
           {
            "colorbar": {
             "outlinewidth": 0,
             "ticks": ""
            },
            "colorscale": [
             [
              0,
              "#0d0887"
             ],
             [
              0.1111111111111111,
              "#46039f"
             ],
             [
              0.2222222222222222,
              "#7201a8"
             ],
             [
              0.3333333333333333,
              "#9c179e"
             ],
             [
              0.4444444444444444,
              "#bd3786"
             ],
             [
              0.5555555555555556,
              "#d8576b"
             ],
             [
              0.6666666666666666,
              "#ed7953"
             ],
             [
              0.7777777777777778,
              "#fb9f3a"
             ],
             [
              0.8888888888888888,
              "#fdca26"
             ],
             [
              1,
              "#f0f921"
             ]
            ],
            "type": "heatmapgl"
           }
          ],
          "histogram": [
           {
            "marker": {
             "pattern": {
              "fillmode": "overlay",
              "size": 10,
              "solidity": 0.2
             }
            },
            "type": "histogram"
           }
          ],
          "histogram2d": [
           {
            "colorbar": {
             "outlinewidth": 0,
             "ticks": ""
            },
            "colorscale": [
             [
              0,
              "#0d0887"
             ],
             [
              0.1111111111111111,
              "#46039f"
             ],
             [
              0.2222222222222222,
              "#7201a8"
             ],
             [
              0.3333333333333333,
              "#9c179e"
             ],
             [
              0.4444444444444444,
              "#bd3786"
             ],
             [
              0.5555555555555556,
              "#d8576b"
             ],
             [
              0.6666666666666666,
              "#ed7953"
             ],
             [
              0.7777777777777778,
              "#fb9f3a"
             ],
             [
              0.8888888888888888,
              "#fdca26"
             ],
             [
              1,
              "#f0f921"
             ]
            ],
            "type": "histogram2d"
           }
          ],
          "histogram2dcontour": [
           {
            "colorbar": {
             "outlinewidth": 0,
             "ticks": ""
            },
            "colorscale": [
             [
              0,
              "#0d0887"
             ],
             [
              0.1111111111111111,
              "#46039f"
             ],
             [
              0.2222222222222222,
              "#7201a8"
             ],
             [
              0.3333333333333333,
              "#9c179e"
             ],
             [
              0.4444444444444444,
              "#bd3786"
             ],
             [
              0.5555555555555556,
              "#d8576b"
             ],
             [
              0.6666666666666666,
              "#ed7953"
             ],
             [
              0.7777777777777778,
              "#fb9f3a"
             ],
             [
              0.8888888888888888,
              "#fdca26"
             ],
             [
              1,
              "#f0f921"
             ]
            ],
            "type": "histogram2dcontour"
           }
          ],
          "mesh3d": [
           {
            "colorbar": {
             "outlinewidth": 0,
             "ticks": ""
            },
            "type": "mesh3d"
           }
          ],
          "parcoords": [
           {
            "line": {
             "colorbar": {
              "outlinewidth": 0,
              "ticks": ""
             }
            },
            "type": "parcoords"
           }
          ],
          "pie": [
           {
            "automargin": true,
            "type": "pie"
           }
          ],
          "scatter": [
           {
            "fillpattern": {
             "fillmode": "overlay",
             "size": 10,
             "solidity": 0.2
            },
            "type": "scatter"
           }
          ],
          "scatter3d": [
           {
            "line": {
             "colorbar": {
              "outlinewidth": 0,
              "ticks": ""
             }
            },
            "marker": {
             "colorbar": {
              "outlinewidth": 0,
              "ticks": ""
             }
            },
            "type": "scatter3d"
           }
          ],
          "scattercarpet": [
           {
            "marker": {
             "colorbar": {
              "outlinewidth": 0,
              "ticks": ""
             }
            },
            "type": "scattercarpet"
           }
          ],
          "scattergeo": [
           {
            "marker": {
             "colorbar": {
              "outlinewidth": 0,
              "ticks": ""
             }
            },
            "type": "scattergeo"
           }
          ],
          "scattergl": [
           {
            "marker": {
             "colorbar": {
              "outlinewidth": 0,
              "ticks": ""
             }
            },
            "type": "scattergl"
           }
          ],
          "scattermapbox": [
           {
            "marker": {
             "colorbar": {
              "outlinewidth": 0,
              "ticks": ""
             }
            },
            "type": "scattermapbox"
           }
          ],
          "scatterpolar": [
           {
            "marker": {
             "colorbar": {
              "outlinewidth": 0,
              "ticks": ""
             }
            },
            "type": "scatterpolar"
           }
          ],
          "scatterpolargl": [
           {
            "marker": {
             "colorbar": {
              "outlinewidth": 0,
              "ticks": ""
             }
            },
            "type": "scatterpolargl"
           }
          ],
          "scatterternary": [
           {
            "marker": {
             "colorbar": {
              "outlinewidth": 0,
              "ticks": ""
             }
            },
            "type": "scatterternary"
           }
          ],
          "surface": [
           {
            "colorbar": {
             "outlinewidth": 0,
             "ticks": ""
            },
            "colorscale": [
             [
              0,
              "#0d0887"
             ],
             [
              0.1111111111111111,
              "#46039f"
             ],
             [
              0.2222222222222222,
              "#7201a8"
             ],
             [
              0.3333333333333333,
              "#9c179e"
             ],
             [
              0.4444444444444444,
              "#bd3786"
             ],
             [
              0.5555555555555556,
              "#d8576b"
             ],
             [
              0.6666666666666666,
              "#ed7953"
             ],
             [
              0.7777777777777778,
              "#fb9f3a"
             ],
             [
              0.8888888888888888,
              "#fdca26"
             ],
             [
              1,
              "#f0f921"
             ]
            ],
            "type": "surface"
           }
          ],
          "table": [
           {
            "cells": {
             "fill": {
              "color": "#EBF0F8"
             },
             "line": {
              "color": "white"
             }
            },
            "header": {
             "fill": {
              "color": "#C8D4E3"
             },
             "line": {
              "color": "white"
             }
            },
            "type": "table"
           }
          ]
         },
         "layout": {
          "annotationdefaults": {
           "arrowcolor": "#2a3f5f",
           "arrowhead": 0,
           "arrowwidth": 1
          },
          "autotypenumbers": "strict",
          "coloraxis": {
           "colorbar": {
            "outlinewidth": 0,
            "ticks": ""
           }
          },
          "colorscale": {
           "diverging": [
            [
             0,
             "#8e0152"
            ],
            [
             0.1,
             "#c51b7d"
            ],
            [
             0.2,
             "#de77ae"
            ],
            [
             0.3,
             "#f1b6da"
            ],
            [
             0.4,
             "#fde0ef"
            ],
            [
             0.5,
             "#f7f7f7"
            ],
            [
             0.6,
             "#e6f5d0"
            ],
            [
             0.7,
             "#b8e186"
            ],
            [
             0.8,
             "#7fbc41"
            ],
            [
             0.9,
             "#4d9221"
            ],
            [
             1,
             "#276419"
            ]
           ],
           "sequential": [
            [
             0,
             "#0d0887"
            ],
            [
             0.1111111111111111,
             "#46039f"
            ],
            [
             0.2222222222222222,
             "#7201a8"
            ],
            [
             0.3333333333333333,
             "#9c179e"
            ],
            [
             0.4444444444444444,
             "#bd3786"
            ],
            [
             0.5555555555555556,
             "#d8576b"
            ],
            [
             0.6666666666666666,
             "#ed7953"
            ],
            [
             0.7777777777777778,
             "#fb9f3a"
            ],
            [
             0.8888888888888888,
             "#fdca26"
            ],
            [
             1,
             "#f0f921"
            ]
           ],
           "sequentialminus": [
            [
             0,
             "#0d0887"
            ],
            [
             0.1111111111111111,
             "#46039f"
            ],
            [
             0.2222222222222222,
             "#7201a8"
            ],
            [
             0.3333333333333333,
             "#9c179e"
            ],
            [
             0.4444444444444444,
             "#bd3786"
            ],
            [
             0.5555555555555556,
             "#d8576b"
            ],
            [
             0.6666666666666666,
             "#ed7953"
            ],
            [
             0.7777777777777778,
             "#fb9f3a"
            ],
            [
             0.8888888888888888,
             "#fdca26"
            ],
            [
             1,
             "#f0f921"
            ]
           ]
          },
          "colorway": [
           "#636efa",
           "#EF553B",
           "#00cc96",
           "#ab63fa",
           "#FFA15A",
           "#19d3f3",
           "#FF6692",
           "#B6E880",
           "#FF97FF",
           "#FECB52"
          ],
          "font": {
           "color": "#2a3f5f"
          },
          "geo": {
           "bgcolor": "white",
           "lakecolor": "white",
           "landcolor": "#E5ECF6",
           "showlakes": true,
           "showland": true,
           "subunitcolor": "white"
          },
          "hoverlabel": {
           "align": "left"
          },
          "hovermode": "closest",
          "mapbox": {
           "style": "light"
          },
          "paper_bgcolor": "white",
          "plot_bgcolor": "#E5ECF6",
          "polar": {
           "angularaxis": {
            "gridcolor": "white",
            "linecolor": "white",
            "ticks": ""
           },
           "bgcolor": "#E5ECF6",
           "radialaxis": {
            "gridcolor": "white",
            "linecolor": "white",
            "ticks": ""
           }
          },
          "scene": {
           "xaxis": {
            "backgroundcolor": "#E5ECF6",
            "gridcolor": "white",
            "gridwidth": 2,
            "linecolor": "white",
            "showbackground": true,
            "ticks": "",
            "zerolinecolor": "white"
           },
           "yaxis": {
            "backgroundcolor": "#E5ECF6",
            "gridcolor": "white",
            "gridwidth": 2,
            "linecolor": "white",
            "showbackground": true,
            "ticks": "",
            "zerolinecolor": "white"
           },
           "zaxis": {
            "backgroundcolor": "#E5ECF6",
            "gridcolor": "white",
            "gridwidth": 2,
            "linecolor": "white",
            "showbackground": true,
            "ticks": "",
            "zerolinecolor": "white"
           }
          },
          "shapedefaults": {
           "line": {
            "color": "#2a3f5f"
           }
          },
          "ternary": {
           "aaxis": {
            "gridcolor": "white",
            "linecolor": "white",
            "ticks": ""
           },
           "baxis": {
            "gridcolor": "white",
            "linecolor": "white",
            "ticks": ""
           },
           "bgcolor": "#E5ECF6",
           "caxis": {
            "gridcolor": "white",
            "linecolor": "white",
            "ticks": ""
           }
          },
          "title": {
           "x": 0.05
          },
          "xaxis": {
           "automargin": true,
           "gridcolor": "white",
           "linecolor": "white",
           "ticks": "",
           "title": {
            "standoff": 15
           },
           "zerolinecolor": "white",
           "zerolinewidth": 2
          },
          "yaxis": {
           "automargin": true,
           "gridcolor": "white",
           "linecolor": "white",
           "ticks": "",
           "title": {
            "standoff": 15
           },
           "zerolinecolor": "white",
           "zerolinewidth": 2
          }
         }
        },
        "width": 700,
        "xaxis": {
         "categoryorder": "category descending"
        },
        "yaxis": {
         "range": [
          0,
          20
         ]
        }
       }
      }
     },
     "metadata": {},
     "output_type": "display_data"
    }
   ],
   "source": [
    "df_copy = df.loc[(df[\"time\"] < 120) & (df[\"msne\"]<20)]\n",
    "\n",
    "estimators_means = df_copy.groupby(\"estimators\", as_index=False).mean(numeric_only=True)\n",
    "\n",
    "\n",
    "fig = go.Figure(\n",
    "    layout=dict(\n",
    "        xaxis=dict(categoryorder=\"category descending\"),\n",
    "        yaxis=dict(range=[0, 20]),\n",
    "        scattermode=\"group\",\n",
    "        legend=dict(groupclick=\"toggleitem\"),\n",
    "        width=700, height=700\n",
    "    )\n",
    ")\n",
    "\n",
    "\n",
    "\n",
    "fig.add_trace(\n",
    "    go.Bar(\n",
    "        x=estimators_means.estimators,\n",
    "        y=estimators_means.msne,\n",
    "        name=\"Average\",\n",
    "        marker_color=\"IndianRed\",\n",
    "        offsetgroup=\"MSNE\",\n",
    "        legendgroup=\"MSNE\",\n",
    "        legendgrouptitle_text=\"MSNE\",\n",
    "    )\n",
    ")\n",
    "\n",
    "fig.add_trace(\n",
    "    go.Bar(\n",
    "        x=estimators_means.estimators,\n",
    "        y=estimators_means.pepn*10,\n",
    "        name=\"Average * 10\",\n",
    "        marker_color=\"green\",\n",
    "        offsetgroup=\"pepn\",\n",
    "        legendgroup=\"pepn\",\n",
    "        legendgrouptitle_text=\"pepn\",\n",
    "    )\n",
    ")\n",
    "\n",
    "fig.update_traces(width=0.1)\n",
    "\n",
    "fig.add_trace(\n",
    "    go.Scatter(\n",
    "        x=df_copy.estimators,\n",
    "        y=df_copy.msne,\n",
    "        mode=\"markers\",\n",
    "        name=\"Individual msne\",\n",
    "        marker=dict(color=\"teal\", size=5),\n",
    "        offsetgroup=\"MSNE\",\n",
    "        legendgroup=\"MSNE\",\n",
    "    )\n",
    ")\n",
    "\n",
    "\n",
    "\n",
    "\n",
    "fig.add_trace(\n",
    "    go.Scatter(\n",
    "        x=df_copy.estimators,\n",
    "        y=df_copy.pepn*10,\n",
    "        mode=\"markers\",\n",
    "        name=\"Individual pepn * 10\",\n",
    "        marker=dict(color=\"red\", size=3),\n",
    "        offsetgroup=\"pepn\",\n",
    "        legendgroup=\"pepn\",\n",
    "    )\n",
    ")\n",
    "\n",
    "fig.update_layout(\n",
    "    margin=dict(l=0, r=0, b=0, t=0),\n",
    "    scene=dict(\n",
    "        xaxis=dict(showgrid=True, gridwidth=2, gridcolor='black', tickfont=dict(size=15), title_font=dict(size=20)),\n",
    "        yaxis=dict(showgrid=True, gridwidth=2, gridcolor='black', tickfont=dict(size=15), title_font=dict(size=20)),\n",
    "        zaxis=dict(showgrid=True, gridwidth=2, gridcolor='black', tickfont=dict(size=15), title_font=dict(size=20))\n",
    "    )\n",
    ")\n",
    "\n",
    "fig.show()\n"
   ]
  },
  {
   "cell_type": "code",
   "execution_count": null,
   "metadata": {},
   "outputs": [],
   "source": []
  }
 ],
 "metadata": {
  "kernelspec": {
   "display_name": "detectron",
   "language": "python",
   "name": "python3"
  },
  "language_info": {
   "codemirror_mode": {
    "name": "ipython",
    "version": 3
   },
   "file_extension": ".py",
   "mimetype": "text/x-python",
   "name": "python",
   "nbconvert_exporter": "python",
   "pygments_lexer": "ipython3",
   "version": "3.9.6"
  }
 },
 "nbformat": 4,
 "nbformat_minor": 2
}
